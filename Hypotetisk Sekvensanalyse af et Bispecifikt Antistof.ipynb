{
 "cells": [
  {
   "cell_type": "markdown",
   "id": "d9888ad5",
   "metadata": {},
   "source": [
    "# Sekvensanalyse af et Hypotetisk Bispecifikt Antistof\n",
    "\n",
    "I denne notebook vil vi udføre en sekvensanalyse af et hypotetisk bispecifikt antistof, der binder til både CD20 og CD3. Bispecifikke antistoffer er konstruerede proteiner, der kan binde to forskellige mål samtidig."
   ]
  },
  {
   "cell_type": "markdown",
   "id": "6f25aa6d",
   "metadata": {},
   "source": [
    "## Trin 1: Installation af Biopython\n",
    "\n",
    "Vi skal bruge Biopython-pakken til vores analyse. Hvis du ikke har Biopython installeret, kan du installere det ved at køre nedenstående kommando."
   ]
  },
  {
   "cell_type": "code",
   "execution_count": 1,
   "id": "cdc87d78",
   "metadata": {},
   "outputs": [
    {
     "name": "stdout",
     "output_type": "stream",
     "text": [
      "Requirement already satisfied: biopython in c:\\programdata\\anaconda3\\lib\\site-packages (1.83)\n",
      "Requirement already satisfied: numpy in c:\\programdata\\anaconda3\\lib\\site-packages (from biopython) (1.26.4)\n"
     ]
    }
   ],
   "source": [
    "!pip install biopython"
   ]
  },
  {
   "cell_type": "markdown",
   "id": "386a016b",
   "metadata": {},
   "source": [
    "## Trin 2: Import af Nødvendige Biblioteker\n",
    "\n",
    "Vi importerer de nødvendige biblioteker til vores analyse. Vi bruger `ProteinAnalysis` fra Biopython til at analysere aminosyresekvensen."
   ]
  },
  {
   "cell_type": "code",
   "execution_count": 2,
   "id": "fce39d60",
   "metadata": {},
   "outputs": [],
   "source": [
    "from Bio.SeqUtils.ProtParam import ProteinAnalysis"
   ]
  },
  {
   "cell_type": "markdown",
   "id": "8a514028",
   "metadata": {},
   "source": [
    "## Trin 3: Definition af Hypotetiske Sekvenser\n",
    "\n",
    "Vi definerer to sekvenser, en der binder til CD20 og en der binder til CD3. Disse sekvenser er hypotetiske og bruges kun til demonstration."
   ]
  },
  {
   "cell_type": "code",
   "execution_count": 3,
   "id": "a16083bf",
   "metadata": {},
   "outputs": [
    {
     "name": "stdout",
     "output_type": "stream",
     "text": [
      "Aminosyresekvens: EVQLVESGGGLVQPGGSLRLSCAASGFTFSSYAMSWVRQAPGKGLEWVSAISYDGSTYYADSVKGRFTISRDNAKNTLYLQMNSLRAEDTAVYYCARGGGGMDVWGQGTTVTVSSQVQLVQSGAEVKKPGSSVKVSCKASGDTFAYWMNWVRQAPGQGLEWIGYINPSRGYTNYNQKFKGKATLTADKSSSTAYMQLSSLKTSEDTAVYYCARERDGWGQGTTVTVSS\n"
     ]
    }
   ],
   "source": [
    "# Hypotetisk sekvens af et bispecifikt antistof, der binder til CD20 og CD3\n",
    "sequence_str_cd20 = \"EVQLVESGGGLVQPGGSLRLSCAASGFTFSSYAMSWVRQAPGKGLEWVSAISYDGSTYYADSVKGRFTISRDNAKNTLYLQMNSLRAEDTAVYYCARGGGGMDVWGQGTTVTVSS\"\n",
    "sequence_str_cd3 = \"QVQLVQSGAEVKKPGSSVKVSCKASGDTFAYWMNWVRQAPGQGLEWIGYINPSRGYTNYNQKFKGKATLTADKSSSTAYMQLSSLKTSEDTAVYYCARERDGWGQGTTVTVSS\"\n",
    "\n",
    "# Kombiner sekvenserne til et bispecifikt antistof (for enkelheds skyld)\n",
    "sequence_str = sequence_str_cd20 + sequence_str_cd3\n",
    "print(f\"Aminosyresekvens: {sequence_str}\")"
   ]
  },
  {
   "cell_type": "markdown",
   "id": "80ed92a7",
   "metadata": {},
   "source": [
    "## Trin 4: Sekvensanalyse\n",
    "\n",
    "Vi bruger `ProteinAnalysis` til at analysere sekvensen og beregne dens basiske egenskaber som molekylvægt, aromatisk indeks, instabilitetsindeks, isoelectric punkt og andel af sekundær struktur."
   ]
  },
  {
   "cell_type": "code",
   "execution_count": 4,
   "id": "129858e5",
   "metadata": {},
   "outputs": [
    {
     "name": "stdout",
     "output_type": "stream",
     "text": [
      "Molekylvægt: 24572.072300000003\n",
      "Aromatisk indeks: 0.11403508771929824\n",
      "Instabilitetsindeks: 32.24517543859649\n",
      "Isoelectric punkt: 8.95461025238037\n",
      "Andel af sekundær struktur (helix, turn, sheet): (0.25, 0.33771929824561403, 0.3508771929824561)\n"
     ]
    }
   ],
   "source": [
    "# Analyser sekvensen\n",
    "protein_analysis = ProteinAnalysis(sequence_str)\n",
    "\n",
    "# Beregn basiske egenskaber\n",
    "molecular_weight = protein_analysis.molecular_weight()\n",
    "aromaticity = protein_analysis.aromaticity()\n",
    "instability_index = protein_analysis.instability_index()\n",
    "isoelectric_point = protein_analysis.isoelectric_point()\n",
    "secondary_structure_fraction = protein_analysis.secondary_structure_fraction()\n",
    "\n",
    "# Udskriv resultater\n",
    "print(f\"Molekylvægt: {molecular_weight}\")\n",
    "print(f\"Aromatisk indeks: {aromaticity}\")\n",
    "print(f\"Instabilitetsindeks: {instability_index}\")\n",
    "print(f\"Isoelectric punkt: {isoelectric_point}\")\n",
    "print(f\"Andel af sekundær struktur (helix, turn, sheet): {secondary_structure_fraction}\")"
   ]
  },
  {
   "cell_type": "markdown",
   "id": "ba73e2a4",
   "metadata": {},
   "source": [
    "### Forklaring af Resultater\n",
    "\n",
    "1. **Molekylvægt**: Vægten af molekylet i Dalton (Da).\n",
    "2. **Aromatisk Indeks**: Forholdet af aromatiske aminosyrer i sekvensen. Aromatiske aminosyrer er vigtige for proteinets struktur.\n",
    "3. **Instabilitetsindeks**: Forudsiger stabiliteten af proteinet i en testtube. En værdi under 40 betyder, at proteinet sandsynligvis er stabilt.\n",
    "4. **Isoelectric Punkt**: Den pH-værdi, hvor proteinet har en neutral ladning.\n",
    "5. **Sekundær Struktur**: Andelen af helix, turn, og sheet i proteinets sekundære struktur."
   ]
  },
  {
   "cell_type": "code",
   "execution_count": null,
   "id": "7a73a886-45ba-4b8a-b96a-af4b33821f45",
   "metadata": {},
   "outputs": [],
   "source": []
  },
  {
   "cell_type": "code",
   "execution_count": null,
   "id": "84e66b0f-2e93-41d0-91a7-fffa7ea87af9",
   "metadata": {},
   "outputs": [],
   "source": []
  }
 ],
 "metadata": {
  "kernelspec": {
   "display_name": "Python 3 (ipykernel)",
   "language": "python",
   "name": "python3"
  },
  "language_info": {
   "codemirror_mode": {
    "name": "ipython",
    "version": 3
   },
   "file_extension": ".py",
   "mimetype": "text/x-python",
   "name": "python",
   "nbconvert_exporter": "python",
   "pygments_lexer": "ipython3",
   "version": "3.11.7"
  }
 },
 "nbformat": 4,
 "nbformat_minor": 5
}
